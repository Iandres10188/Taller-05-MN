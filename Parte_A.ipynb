{
 "cells": [
  {
   "cell_type": "code",
   "execution_count": 1,
   "id": "bba294af",
   "metadata": {},
   "outputs": [
    {
     "data": {
      "application/vnd.jupyter.widget-view+json": {
       "model_id": "694acaa260944a9d998a09c7e365f8b8",
       "version_major": 2,
       "version_minor": 0
      },
      "text/plain": [
       "interactive(children=(FloatSlider(value=9.5, description='x2', max=12.0, min=6.0), FloatSlider(value=0.7, desc…"
      ]
     },
     "metadata": {},
     "output_type": "display_data"
    }
   ],
   "source": [
    "import numpy as np\n",
    "import matplotlib.pyplot as plt\n",
    "from ipywidgets import interact, FloatSlider\n",
    "\n",
    "# Puntos fijos\n",
    "p1 = (5.4, 3.2)\n",
    "p3 = (12.3, -3.6)\n",
    "\n",
    "# Función para interpolar parábola\n",
    "def interpolar_parabola(p1, p2, p3):\n",
    "    x1, y1 = p1\n",
    "    x2, y2 = p2\n",
    "    x3, y3 = p3\n",
    "    A = np.array([\n",
    "        [x1**2, x1, 1],\n",
    "        [x2**2, x2, 1],\n",
    "        [x3**2, x3, 1]\n",
    "    ])\n",
    "    b = np.array([y1, y2, y3])\n",
    "    coef = np.linalg.solve(A, b)\n",
    "    return coef\n",
    "\n",
    "# Función para graficar con etiquetas + coordenadas\n",
    "def graficar_parabola(x2=9.5, y2=0.7):\n",
    "    p2 = (x2, y2)\n",
    "    coef = interpolar_parabola(p1, p2, p3)\n",
    "    a, b, c = coef\n",
    "\n",
    "    xs = np.linspace(4, 14, 500)\n",
    "    ys = a * xs**2 + b * xs + c\n",
    "\n",
    "    plt.figure(figsize=(9, 5))\n",
    "    plt.plot(xs, ys, label='Parábola interpolada', color='blue')\n",
    "    plt.plot(*p1, 'ro')\n",
    "    plt.plot(*p2, 'go')\n",
    "    plt.plot(*p3, 'ro')\n",
    "\n",
    "    # Mostrar etiquetas con coordenadas\n",
    "    plt.text(p1[0] + 0.1, p1[1] + 0.2, f\"p1 ({p1[0]:.1f}, {p1[1]:.1f})\", color='red', fontsize=10)\n",
    "    plt.text(p2[0] + 0.1, p2[1] + 0.2, f\"p2 ({p2[0]:.1f}, {p2[1]:.1f})\", color='green', fontsize=10)\n",
    "    plt.text(p3[0] + 0.1, p3[1] + 0.2, f\"p3 ({p3[0]:.1f}, {p3[1]:.1f})\", color='red', fontsize=10)\n",
    "\n",
    "    plt.xlim(4, 14)\n",
    "    plt.ylim(-6, 6)\n",
    "    plt.grid(True)\n",
    "    plt.legend()\n",
    "    plt.title(\"Interpolación de parábola con punto movible (p2)\")\n",
    "    plt.xlabel(\"x\")\n",
    "    plt.ylabel(\"y\")\n",
    "    plt.show()\n",
    "\n",
    "# Sliders interactivos\n",
    "interact(graficar_parabola,\n",
    "         x2=FloatSlider(value=9.5, min=6, max=12, step=0.1, description='x2'),\n",
    "         y2=FloatSlider(value=0.7, min=-5, max=5, step=0.1, description='y2'));"
   ]
  }
 ],
 "metadata": {
  "kernelspec": {
   "display_name": "base",
   "language": "python",
   "name": "python3"
  },
  "language_info": {
   "codemirror_mode": {
    "name": "ipython",
    "version": 3
   },
   "file_extension": ".py",
   "mimetype": "text/x-python",
   "name": "python",
   "nbconvert_exporter": "python",
   "pygments_lexer": "ipython3",
   "version": "3.12.7"
  }
 },
 "nbformat": 4,
 "nbformat_minor": 5
}
